{
 "cells": [
  {
   "cell_type": "code",
   "execution_count": 1,
   "id": "68cbe79d-e6a9-4750-84a7-20313d8da499",
   "metadata": {},
   "outputs": [],
   "source": [
    "import ccxt\n",
    "import pandas as pd\n",
    "import numpy as np\n",
    "from datetime import datetime"
   ]
  },
  {
   "cell_type": "code",
   "execution_count": 2,
   "id": "9de40039-6fdf-4a6e-99d2-7e149f172463",
   "metadata": {},
   "outputs": [],
   "source": [
    "class CryptoDataCollector:\n",
    "\n",
    "    def __init__(self, exchanges=['binanceus', 'coinbase', 'kraken', 'bitfinex', \n",
    "                                'kucoin', 'okx', 'gateio', 'bitstamp', \n",
    "                            'poloniex', 'huobi', 'hitbtc', 'bitget', 'exmo', 'phemex', 'upbit']):\n",
    "        self.exchanges = [getattr(ccxt, ex)() for ex in exchanges]\n",
    "        \n",
    "    def fetch_historical_data(self, symbol='BTC/USDT', timeframe='5m', limit=10000):\n",
    "        data = []\n",
    "        for exchange in self.exchanges:\n",
    "            ohlcv = exchange.fetch_ohlcv(symbol, timeframe, limit=limit)\n",
    "            df = pd.DataFrame(ohlcv, columns=['timestamp', 'open', 'high', 'low', 'close', 'volume'])\n",
    "            df['timestamp'] = df['timestamp'].apply(lambda x: datetime.fromtimestamp(x / 1000))\n",
    "            df['exchange'] = exchange.id\n",
    "            data.append(df)\n",
    "        return pd.concat(data)\n",
    "\n",
    "    def fetch_social_sentiment(self, symbol):\n",
    "        # Implement API calls to social sentiment sources\n",
    "        # Could use Twitter API, Reddit API, etc.\n",
    "        pass"
   ]
  },
  {
   "cell_type": "code",
   "execution_count": 3,
   "id": "e5326b68-22f4-42b3-801c-e096d946d029",
   "metadata": {},
   "outputs": [],
   "source": [
    "btc_price=CryptoDataCollector().fetch_historical_data()"
   ]
  },
  {
   "cell_type": "code",
   "execution_count": 4,
   "id": "ef8aa07c-64f8-41ef-b955-db5971daac41",
   "metadata": {},
   "outputs": [],
   "source": [
    "btc_price['timestamp'] = pd.to_datetime(btc_price['timestamp'])\n",
    "btc_price.to_csv('btc_data.csv',  index=False, date_format='%Y-%m-%d %H:%M:%S')"
   ]
  }
 ],
 "metadata": {
  "kernelspec": {
   "display_name": "Python 3 (ipykernel)",
   "language": "python",
   "name": "python3"
  },
  "language_info": {
   "codemirror_mode": {
    "name": "ipython",
    "version": 3
   },
   "file_extension": ".py",
   "mimetype": "text/x-python",
   "name": "python",
   "nbconvert_exporter": "python",
   "pygments_lexer": "ipython3",
   "version": "3.13.0"
  }
 },
 "nbformat": 4,
 "nbformat_minor": 5
}
